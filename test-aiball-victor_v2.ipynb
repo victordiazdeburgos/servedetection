{
 "cells": [
  {
   "cell_type": "markdown",
   "metadata": {},
   "source": [
    "# Model per detectar saques"
   ]
  },
  {
   "cell_type": "code",
   "execution_count": 56,
   "metadata": {},
   "outputs": [],
   "source": [
    "import pandas as pd\n",
    "import numpy as np\n",
    "from sklearn.model_selection import train_test_split\n",
    "from sklearn.linear_model import LogisticRegression\n",
    "from sklearn.ensemble import RandomForestClassifier\n",
    "from sklearn import svm\n",
    "from sklearn import metrics\n",
    "from sklearn.utils import resample\n",
    "from sklearn.model_selection import GridSearchCV\n",
    "import pickle\n",
    "from keras.models import Sequential\n",
    "from keras.layers import Bidirectional, LSTM, GRU, Dense, Masking"
   ]
  },
  {
   "cell_type": "markdown",
   "metadata": {},
   "source": [
    "## Preprocessament de les dades"
   ]
  },
  {
   "cell_type": "code",
   "execution_count": 2,
   "metadata": {},
   "outputs": [
    {
     "data": {
      "text/html": [
       "<div>\n",
       "<style scoped>\n",
       "    .dataframe tbody tr th:only-of-type {\n",
       "        vertical-align: middle;\n",
       "    }\n",
       "\n",
       "    .dataframe tbody tr th {\n",
       "        vertical-align: top;\n",
       "    }\n",
       "\n",
       "    .dataframe thead th {\n",
       "        text-align: right;\n",
       "    }\n",
       "</style>\n",
       "<table border=\"1\" class=\"dataframe\">\n",
       "  <thead>\n",
       "    <tr style=\"text-align: right;\">\n",
       "      <th></th>\n",
       "      <th>frame_A</th>\n",
       "      <th>minut</th>\n",
       "      <th>segon</th>\n",
       "      <th>X1</th>\n",
       "      <th>Y1</th>\n",
       "      <th>X2</th>\n",
       "      <th>Y2</th>\n",
       "      <th>X3</th>\n",
       "      <th>Y3</th>\n",
       "      <th>X4</th>\n",
       "      <th>Y4</th>\n",
       "      <th>Xpilota</th>\n",
       "      <th>Ypilota</th>\n",
       "      <th>Zpilota</th>\n",
       "      <th>primerosegon</th>\n",
       "    </tr>\n",
       "  </thead>\n",
       "  <tbody>\n",
       "    <tr>\n",
       "      <th>0</th>\n",
       "      <td>2</td>\n",
       "      <td>0.0</td>\n",
       "      <td>0.08</td>\n",
       "      <td>2.173689</td>\n",
       "      <td>3.247462</td>\n",
       "      <td>16.204901</td>\n",
       "      <td>6.362625</td>\n",
       "      <td>5.596889</td>\n",
       "      <td>2.122023</td>\n",
       "      <td>17.891829</td>\n",
       "      <td>3.374809</td>\n",
       "      <td>5.525027</td>\n",
       "      <td>0.293553</td>\n",
       "      <td>0.278393</td>\n",
       "      <td>0</td>\n",
       "    </tr>\n",
       "    <tr>\n",
       "      <th>1</th>\n",
       "      <td>3</td>\n",
       "      <td>0.0</td>\n",
       "      <td>0.12</td>\n",
       "      <td>2.295734</td>\n",
       "      <td>3.184132</td>\n",
       "      <td>16.336478</td>\n",
       "      <td>6.299518</td>\n",
       "      <td>5.757917</td>\n",
       "      <td>1.981295</td>\n",
       "      <td>17.934269</td>\n",
       "      <td>3.335846</td>\n",
       "      <td>5.471187</td>\n",
       "      <td>0.246989</td>\n",
       "      <td>0.408650</td>\n",
       "      <td>0</td>\n",
       "    </tr>\n",
       "    <tr>\n",
       "      <th>2</th>\n",
       "      <td>4</td>\n",
       "      <td>0.0</td>\n",
       "      <td>0.16</td>\n",
       "      <td>2.258836</td>\n",
       "      <td>3.097047</td>\n",
       "      <td>16.240914</td>\n",
       "      <td>6.242256</td>\n",
       "      <td>5.632388</td>\n",
       "      <td>1.830908</td>\n",
       "      <td>18.059032</td>\n",
       "      <td>3.298770</td>\n",
       "      <td>5.418823</td>\n",
       "      <td>0.192745</td>\n",
       "      <td>0.552259</td>\n",
       "      <td>0</td>\n",
       "    </tr>\n",
       "    <tr>\n",
       "      <th>3</th>\n",
       "      <td>5</td>\n",
       "      <td>0.0</td>\n",
       "      <td>0.20</td>\n",
       "      <td>2.359201</td>\n",
       "      <td>3.012677</td>\n",
       "      <td>16.141232</td>\n",
       "      <td>6.206958</td>\n",
       "      <td>5.678033</td>\n",
       "      <td>1.703008</td>\n",
       "      <td>18.033313</td>\n",
       "      <td>3.250262</td>\n",
       "      <td>5.356726</td>\n",
       "      <td>0.133419</td>\n",
       "      <td>0.707505</td>\n",
       "      <td>0</td>\n",
       "    </tr>\n",
       "    <tr>\n",
       "      <th>4</th>\n",
       "      <td>6</td>\n",
       "      <td>0.0</td>\n",
       "      <td>0.24</td>\n",
       "      <td>2.345732</td>\n",
       "      <td>2.913717</td>\n",
       "      <td>15.910345</td>\n",
       "      <td>6.146682</td>\n",
       "      <td>5.586123</td>\n",
       "      <td>1.585131</td>\n",
       "      <td>18.129955</td>\n",
       "      <td>3.217609</td>\n",
       "      <td>5.289074</td>\n",
       "      <td>0.075366</td>\n",
       "      <td>0.860300</td>\n",
       "      <td>0</td>\n",
       "    </tr>\n",
       "  </tbody>\n",
       "</table>\n",
       "</div>"
      ],
      "text/plain": [
       "   frame_A  minut  segon        X1        Y1         X2        Y2        X3  \\\n",
       "0        2    0.0   0.08  2.173689  3.247462  16.204901  6.362625  5.596889   \n",
       "1        3    0.0   0.12  2.295734  3.184132  16.336478  6.299518  5.757917   \n",
       "2        4    0.0   0.16  2.258836  3.097047  16.240914  6.242256  5.632388   \n",
       "3        5    0.0   0.20  2.359201  3.012677  16.141232  6.206958  5.678033   \n",
       "4        6    0.0   0.24  2.345732  2.913717  15.910345  6.146682  5.586123   \n",
       "\n",
       "         Y3         X4        Y4   Xpilota   Ypilota   Zpilota  primerosegon  \n",
       "0  2.122023  17.891829  3.374809  5.525027  0.293553  0.278393             0  \n",
       "1  1.981295  17.934269  3.335846  5.471187  0.246989  0.408650             0  \n",
       "2  1.830908  18.059032  3.298770  5.418823  0.192745  0.552259             0  \n",
       "3  1.703008  18.033313  3.250262  5.356726  0.133419  0.707505             0  \n",
       "4  1.585131  18.129955  3.217609  5.289074  0.075366  0.860300             0  "
      ]
     },
     "execution_count": 2,
     "metadata": {},
     "output_type": "execute_result"
    }
   ],
   "source": [
    "# Load data\n",
    "df = pd.read_csv(\"train_dataset.csv\", index_col=0)\n",
    "df.head()"
   ]
  },
  {
   "cell_type": "code",
   "execution_count": 2,
   "metadata": {},
   "outputs": [],
   "source": [
    "# df.to_csv('train_dataset_new_features.csv', index=False) \n",
    "df = pd.read_csv(\"train_dataset_new_features.csv\")\n",
    "# df.head()"
   ]
  },
  {
   "cell_type": "markdown",
   "metadata": {},
   "source": [
    "### Noves variables de moviment"
   ]
  },
  {
   "cell_type": "markdown",
   "metadata": {},
   "source": [
    "Les noves variables descriuen el moviment de cada jugador i la pilota calculat amb la diferència de la seva posició respecte un segon abans i un segon després."
   ]
  },
  {
   "cell_type": "code",
   "execution_count": 3,
   "metadata": {},
   "outputs": [],
   "source": [
    "# Iterem per cada jugador i per cada component per calcular quant s'ha mogut en l'últim segon (25 frames = 1 segon)\n",
    "for i in range(1, 5):\n",
    "    for j in ['X', 'Y']:\n",
    "        mov_prev = df[f'{j}{i}'] - df[f'{j}{i}'].shift(50)\n",
    "        mov_post = df[f'{j}{i}'].shift(-50) - df[f'{j}{i}']\n",
    "        # Depen de la banda de la xarxa on es troben, moviment positiu i negatiu volen dir moures endavant o enrere\n",
    "\n",
    "        x_value = df.at[i, f'X{i}']\n",
    "\n",
    "        if x_value < 10:\n",
    "            df[f'mov{j}{i}_prev'] = mov_prev\n",
    "            df[f'mov{j}{i}_post'] = mov_post    \n",
    "        else:\n",
    "            df[f'mov{j}{i}_prev'] = -mov_prev\n",
    "            df[f'mov{j}{i}_post'] = -mov_post\n",
    "\n",
    "# Iterem per cada component de posició de la pilota per calcular quant s'ha mogut en l'últim segon (25 frames = 1 segon)\n",
    "for i in ['X', 'Y', 'Z']:\n",
    "    df[f'mov{i}pilota_prev'] = df[f'{i}pilota'] - df[f'{i}pilota'].shift(50)\n",
    "    df[f'mov{i}pilota_post'] = df[f'{i}pilota'].shift(-50) - df[f'{i}pilota']"
   ]
  },
  {
   "cell_type": "markdown",
   "metadata": {},
   "source": [
    "### Noves variables temporals\n",
    "Nova variable que determina el temps des de l'últim moment en que un jugador no ha estat reconegut per la càmera (si estava fora el camp segurament era amb el joc parat i, per tant, hi haurà un saque per tornar a posar la pilota en joc)"
   ]
  },
  {
   "cell_type": "code",
   "execution_count": 4,
   "metadata": {},
   "outputs": [],
   "source": [
    "# Funció per pasar juntar les dues variables de minuts i segons\n",
    "def to_seconds(minutes, seconds):\n",
    "    return minutes * 60 + seconds\n",
    "\n",
    "# Funció per trobar el temps des de l'anterior valor null a les variables de posició\n",
    "def time_since_previous_nan(row):\n",
    "    time_in_seconds = to_seconds(row['minut'], row['segon']) # temps de la fila examinada en segons\n",
    "    prev_nan = (df[['X1', 'Y1', 'X2', 'Y2', 'X3', 'Y3', 'X4', 'Y4', 'Xpilota', 'Ypilota', 'Zpilota']].isna().any(axis=1) & (df.index <= row.name)) # llista de tots els valors null abans d'aquesta fila\n",
    "    previous_nan_indices = prev_nan[prev_nan].index.values # indexos de les files amb nulls abans d'aquesta\n",
    "    if len(previous_nan_indices) == 0:\n",
    "        # Si no hi ha hagut cap null encara, retornem el temps de la fila (temps des de l'inici del video)\n",
    "        return time_in_seconds\n",
    "    else:\n",
    "        previous_nan_index = previous_nan_indices[-1] # index de l'últim valor nulls abans de la fila examinada\n",
    "        if row.name == previous_nan_index:\n",
    "            # si el aquesta fila conté un valor null retornem 0\n",
    "            return 0\n",
    "        else:\n",
    "            # si hi ha un valor null abans de la fila examinada, calculem quant temps fa hi ho retornem\n",
    "            previous_nan_time_in_seconds = to_seconds(df.loc[previous_nan_index, 'minut'], df.loc[previous_nan_index, 'segon'])\n",
    "            return time_in_seconds - previous_nan_time_in_seconds\n",
    "\n",
    "# Correm la funció per cada entrada del dataframe\n",
    "df['time_prev_nan'] = df.apply(time_since_previous_nan, axis=1)\n"
   ]
  },
  {
   "cell_type": "markdown",
   "metadata": {},
   "source": [
    "### Noves variables de posició\n",
    "Mirant la importància que dona el model a cada feature, m'he adonat que hi ha molta diferència entre la importància de les posicions d'uns jugadors a uns altres. Això no té sentit ja que el saque va canviant, i per molt que un jugador es mogui més que un altre, quan el model es testegi amb un partit diferent aicò ja no será així. Per tant, potser trobar una variable que pugui englobar la posició de tots els jugadors en un sol feature pot ajudar. Faré servir a mitja de al distància del jugadors respecte a la xarxa. "
   ]
  },
  {
   "cell_type": "code",
   "execution_count": 5,
   "metadata": {},
   "outputs": [],
   "source": [
    "def distances(row):\n",
    "    distances_net = np.zeros(4)\n",
    "    distances_middle = np.zeros(4)\n",
    "    for i in range(1,5):\n",
    "        distances_net[i-1] = np.abs(row[f'X{i}']-10)\n",
    "        distances_middle[i-1] = np.abs(row[f'Y{i}']-5)\n",
    "    return pd.Series({'distances_net': distances_net.mean(), 'distances_middle': distances_middle.mean()})\n",
    "\n",
    "df[['distances_net_all', 'distances_middle_all']] = df.apply(distances, axis=1)"
   ]
  },
  {
   "cell_type": "code",
   "execution_count": null,
   "metadata": {},
   "outputs": [],
   "source": [
    "def distances_byteam(row):\n",
    "    distances_net_tb = []\n",
    "    distances_net_tnb = []\n",
    "    distances_middle_tb =[]\n",
    "    distances_middle_tnb =[]\n",
    "    for i in range(1,5):\n",
    "        if (row[f'X{i}']>10 and row['Xpilota']>10) or (row[f'X{i}']<10 and row['Xpilota']<10):\n",
    "            distances_net_tb.append(np.abs(row[f'X{i}']-10))\n",
    "            distances_middle_tb.append(np.abs(row[f'Y{i}']-5))\n",
    "        else:\n",
    "            distances_net_tnb.append(np.abs(row[f'X{i}']-10))\n",
    "            distances_middle_tnb.append(np.abs(row[f'Y{i}']-5))\n",
    "    return pd.Series({\n",
    "        'distances_net_tb': np.array(distances_net_tb).mean(), \n",
    "        'distances_net_tnb': np.array(distances_net_tnb).mean(),\n",
    "        'distances_middle_tb': np.array(distances_middle_tb).mean(), \n",
    "        'distances_middle_tnb': np.array(distances_middle_tnb).mean()\n",
    "        })\n",
    "\n",
    "df[['distances_net_tb', 'distances_net_tnb', 'distances_middle_tb', 'distances_middle_tnb']] = df.apply(distances_byteam, axis=1)"
   ]
  },
  {
   "cell_type": "markdown",
   "metadata": {},
   "source": [
    "### Noves variables de moviment per equip\n",
    "Agrupem els moviments de jugador per equip. Separem entre equip amb pilota i equip sense pilota."
   ]
  },
  {
   "cell_type": "code",
   "execution_count": null,
   "metadata": {},
   "outputs": [],
   "source": [
    "def mov_byteam(row):\n",
    "    movX_prev_tb = []\n",
    "    movX_post_tb = []\n",
    "    movY_prev_tb = []\n",
    "    movY_post_tb = []\n",
    "    movX_prev_tnb = []\n",
    "    movX_post_tnb = []\n",
    "    movY_prev_tnb = []\n",
    "    movY_post_tnb = []\n",
    "    for i in range(1,5):\n",
    "        if (row[f'X{i}']>10 and row['Xpilota']>10) or (row[f'X{i}']<10 and row['Xpilota']<10):\n",
    "            movX_prev_tb.append(row[f'movX{i}_prev'])\n",
    "            movX_post_tb.append(row[f'movX{i}_post'])\n",
    "            movY_prev_tb.append(row[f'movY{i}_prev'])\n",
    "            movY_post_tb.append(row[f'movY{i}_post'])\n",
    "        else:\n",
    "            movX_prev_tnb.append(row[f'movX{i}_prev'])\n",
    "            movX_post_tnb.append(row[f'movX{i}_post'])\n",
    "            movY_prev_tnb.append(row[f'movY{i}_prev'])\n",
    "            movY_post_tnb.append(row[f'movY{i}_post'])\n",
    "    return pd.Series({\n",
    "        'movX_prev_tb': np.array(movX_prev_tb).mean(),\n",
    "        'movX_post_tb': np.array(movX_post_tb).mean(),\n",
    "        'movY_prev_tb': np.array(movY_prev_tb).mean(),\n",
    "        'movY_post_tb': np.array(movY_post_tb).mean(),\n",
    "        'movX_prev_tnb': np.array(movX_prev_tnb).mean(),\n",
    "        'movX_post_tnb': np.array(movX_post_tnb).mean(),\n",
    "        'movY_prev_tnb': np.array(movY_prev_tnb).mean(),\n",
    "        'movY_post_tnb': np.array(movY_post_tnb).mean()\n",
    "    })\n",
    "    \n",
    "\n",
    "df[['movX_prev_tb', 'movX_post_tb', 'movY_prev_tb', 'movY_post_tb', 'movX_prev_tnb', 'movX_post_tnb', 'movY_prev_tnb', 'movY_post_tnb']] = df.apply(mov_byteam, axis=1)"
   ]
  },
  {
   "cell_type": "markdown",
   "metadata": {},
   "source": [
    "### Valors null i altres processaments"
   ]
  },
  {
   "cell_type": "markdown",
   "metadata": {},
   "source": [
    "Primer tractem els valors null"
   ]
  },
  {
   "cell_type": "code",
   "execution_count": 9,
   "metadata": {},
   "outputs": [
    {
     "data": {
      "text/plain": [
       "frame_A                 False\n",
       "minut                   False\n",
       "segon                   False\n",
       "X1                       True\n",
       "Y1                       True\n",
       "X2                       True\n",
       "Y2                       True\n",
       "X3                       True\n",
       "Y3                       True\n",
       "X4                       True\n",
       "Y4                       True\n",
       "Xpilota                 False\n",
       "Ypilota                 False\n",
       "Zpilota                 False\n",
       "primerosegon            False\n",
       "movX1_prev               True\n",
       "movX1_post               True\n",
       "movY1_prev               True\n",
       "movY1_post               True\n",
       "movX2_prev               True\n",
       "movX2_post               True\n",
       "movY2_prev               True\n",
       "movY2_post               True\n",
       "movX3_prev               True\n",
       "movX3_post               True\n",
       "movY3_prev               True\n",
       "movY3_post               True\n",
       "movX4_prev               True\n",
       "movX4_post               True\n",
       "movY4_prev               True\n",
       "movY4_post               True\n",
       "movXpilota_prev          True\n",
       "movXpilota_post          True\n",
       "movYpilota_prev          True\n",
       "movYpilota_post          True\n",
       "movZpilota_prev          True\n",
       "movZpilota_post          True\n",
       "time_prev_nan           False\n",
       "distances_net            True\n",
       "distances_middle         True\n",
       "distances_net_tb         True\n",
       "distances_net_tnb        True\n",
       "distances_middle_tb      True\n",
       "distances_middle_tnb     True\n",
       "movX_prev_tb             True\n",
       "movX_post_tb             True\n",
       "movYprev_tb              True\n",
       "movY_post_tb             True\n",
       "movX_prev_tnb            True\n",
       "movX_post_tnb            True\n",
       "movYprev_tnb             True\n",
       "movY_post_tnb            True\n",
       "dtype: bool"
      ]
     },
     "execution_count": 9,
     "metadata": {},
     "output_type": "execute_result"
    }
   ],
   "source": [
    "# Check valors Nan\n",
    "df.isnull().any()"
   ]
  },
  {
   "cell_type": "markdown",
   "metadata": {},
   "source": [
    "Veiem que només les variables de les posicions dels jugadors les tenen valors nulls (apart de les de moviment). Fent una ullada a les dades m'ha semblat que sempre que falta el valor d'una variable també falta el de la seva parella (coordenades, si falta la x falta la y), per tant, entenc que no és problema del dataframe sinó que és que el jugador no s'ha pogut identificar a la pista. Per tant, entenc que el jugador no està a la pista i es pot descartar que sigui un frame de saque. No se com de bé funciona l'algoritme, però un altre motiu pel que potser no es pot detectar un jugador és perqué està junt amb el seu company i l'algoritme ho detecta com una sola persona. En aquest cas, també es pot descartar que es tracti d'una sacada ja que els jugadors sempre estaries ben posicionats a la pista."
   ]
  },
  {
   "cell_type": "code",
   "execution_count": 3,
   "metadata": {},
   "outputs": [],
   "source": [
    "# Drop NaN\n",
    "df_nonan = df.dropna() # Drop rows containing NaN values"
   ]
  },
  {
   "cell_type": "code",
   "execution_count": 4,
   "metadata": {},
   "outputs": [],
   "source": [
    "# Separar el target\n",
    "target_column = df_nonan['primerosegon']\n",
    "df_notarget = df_nonan.drop('primerosegon',axis=1)"
   ]
  },
  {
   "cell_type": "markdown",
   "metadata": {},
   "source": [
    "## Models de classificació"
   ]
  },
  {
   "cell_type": "code",
   "execution_count": 5,
   "metadata": {},
   "outputs": [
    {
     "name": "stdout",
     "output_type": "stream",
     "text": [
      "x_train: (30730, 51)\n",
      "y_train: (30730,)\n",
      "x_test: (7683, 51)\n",
      "y_test: (7683,)\n"
     ]
    }
   ],
   "source": [
    "# Separar train i test\n",
    "x_train, x_test, y_train, y_test = train_test_split(df_notarget, target_column, test_size=0.20, shuffle=False, random_state=1)\n",
    "\n",
    "print('x_train:',np.shape(x_train))\n",
    "print('y_train:',np.shape(y_train))\n",
    "print('x_test:',np.shape(x_test))\n",
    "print('y_test:',np.shape(y_test))"
   ]
  },
  {
   "cell_type": "code",
   "execution_count": 6,
   "metadata": {},
   "outputs": [
    {
     "data": {
      "text/plain": [
       "0    30677\n",
       "1       53\n",
       "Name: primerosegon, dtype: int64"
      ]
     },
     "execution_count": 6,
     "metadata": {},
     "output_type": "execute_result"
    }
   ],
   "source": [
    "# Número de frames de saque vs no saque\n",
    "y_train.value_counts()"
   ]
  },
  {
   "cell_type": "markdown",
   "metadata": {},
   "source": [
    "Al tenir un dataset amb tots els frames d'un partit, n'hi ha molts més que no són de saque que els si ho són (99.9% vs 0.1%), tenim un dataset molt imbalanced. A l'entrenar un model amb aquestes dades ens detecta la majoria de frames com a No Saque, i molt rarament detecta correctament un frame de Saque. Per tant, tractem aquestes dades primer fent un resample. El que fem es repetir altres frames de saque per a que el número estigui més igualat (upsample). Com més frames creem, més frames de saque detectarà, tan que són saque realment com que no ho són. Per tant es un paràmetre a tenir en compte al pensar com d'important és deixar passar saques o detectar frames que no són saque com a saques. Tamabé es poden eliminar frames de no saque."
   ]
  },
  {
   "cell_type": "code",
   "execution_count": 7,
   "metadata": {},
   "outputs": [],
   "source": [
    "# Concatenar les dades amb el target\n",
    "train_data = x_train.assign(target = y_train.values)\n",
    "\n",
    "# Separar entre saque i no saque\n",
    "saque_train = train_data[train_data[\"target\"] == 1]\n",
    "nosaque_train = train_data[train_data[\"target\"] == 0]\n",
    "\n",
    "# Resample (crear nous frames de saque) (també es pot fer downsample (eliminar frames de no saque))\n",
    "saque_upsampled = resample(saque_train, replace=True, n_samples=int(len(nosaque_train)/2), random_state=0)\n",
    "nosaque_downsampled = resample(nosaque_train, replace=False, n_samples=len(saque_train*2), random_state=0)\n",
    "\n",
    "# Juntar de nou els frames de saque ambe els de no saque\n",
    "# resampled_train = pd.concat([nosaque_train, saque_upsampled]) # Upsampling\n",
    "resampled_train = pd.concat([nosaque_downsampled, saque_train]) # Downsampling\n",
    "\n",
    "# Separar dades i target\n",
    "y_train_resampled = resampled_train['target']\n",
    "x_train_resampled = resampled_train.drop('target',axis=1)"
   ]
  },
  {
   "cell_type": "markdown",
   "metadata": {},
   "source": [
    "Feature selection - triem els features que volem passar al model"
   ]
  },
  {
   "cell_type": "code",
   "execution_count": 8,
   "metadata": {},
   "outputs": [],
   "source": [
    "feature_names = ['distances_net_tb', 'distances_net_tnb', 'distances_middle_tb', 'distances_middle_tnb', 'time_prev_nan', 'movX_prev_tb', 'movX_post_tb', 'movYprev_tb', 'movY_post_tb', 'movX_prev_tnb', 'movX_post_tnb', 'movYprev_tnb', 'movY_post_tnb']\n",
    "# feature_names = ['distances_net_tb', 'distances_net_tnb', 'distances_middle_tb', 'distances_middle_tnb', 'movX_prev_tb', 'movYprev_tb', 'movX_prev_tnb', 'movYprev_tnb']\n",
    "x_train_features = x_train_resampled.loc[:, feature_names]\n",
    "x_test_features = x_test.loc[:, feature_names]"
   ]
  },
  {
   "cell_type": "markdown",
   "metadata": {},
   "source": [
    "### Logistic regression"
   ]
  },
  {
   "cell_type": "markdown",
   "metadata": {},
   "source": [
    "#### Valors default"
   ]
  },
  {
   "cell_type": "code",
   "execution_count": 30,
   "metadata": {},
   "outputs": [],
   "source": [
    "# Crear el model\n",
    "logisticRegr = LogisticRegression()"
   ]
  },
  {
   "cell_type": "code",
   "execution_count": 31,
   "metadata": {},
   "outputs": [
    {
     "name": "stderr",
     "output_type": "stream",
     "text": [
      "c:\\Users\\User\\AppData\\Local\\Programs\\Python\\Python310\\lib\\site-packages\\sklearn\\linear_model\\_logistic.py:444: ConvergenceWarning: lbfgs failed to converge (status=1):\n",
      "STOP: TOTAL NO. of ITERATIONS REACHED LIMIT.\n",
      "\n",
      "Increase the number of iterations (max_iter) or scale the data as shown in:\n",
      "    https://scikit-learn.org/stable/modules/preprocessing.html\n",
      "Please also refer to the documentation for alternative solver options:\n",
      "    https://scikit-learn.org/stable/modules/linear_model.html#logistic-regression\n",
      "  n_iter_i = _check_optimize_result(\n"
     ]
    },
    {
     "data": {
      "text/html": [
       "<style>#sk-container-id-3 {color: black;background-color: white;}#sk-container-id-3 pre{padding: 0;}#sk-container-id-3 div.sk-toggleable {background-color: white;}#sk-container-id-3 label.sk-toggleable__label {cursor: pointer;display: block;width: 100%;margin-bottom: 0;padding: 0.3em;box-sizing: border-box;text-align: center;}#sk-container-id-3 label.sk-toggleable__label-arrow:before {content: \"▸\";float: left;margin-right: 0.25em;color: #696969;}#sk-container-id-3 label.sk-toggleable__label-arrow:hover:before {color: black;}#sk-container-id-3 div.sk-estimator:hover label.sk-toggleable__label-arrow:before {color: black;}#sk-container-id-3 div.sk-toggleable__content {max-height: 0;max-width: 0;overflow: hidden;text-align: left;background-color: #f0f8ff;}#sk-container-id-3 div.sk-toggleable__content pre {margin: 0.2em;color: black;border-radius: 0.25em;background-color: #f0f8ff;}#sk-container-id-3 input.sk-toggleable__control:checked~div.sk-toggleable__content {max-height: 200px;max-width: 100%;overflow: auto;}#sk-container-id-3 input.sk-toggleable__control:checked~label.sk-toggleable__label-arrow:before {content: \"▾\";}#sk-container-id-3 div.sk-estimator input.sk-toggleable__control:checked~label.sk-toggleable__label {background-color: #d4ebff;}#sk-container-id-3 div.sk-label input.sk-toggleable__control:checked~label.sk-toggleable__label {background-color: #d4ebff;}#sk-container-id-3 input.sk-hidden--visually {border: 0;clip: rect(1px 1px 1px 1px);clip: rect(1px, 1px, 1px, 1px);height: 1px;margin: -1px;overflow: hidden;padding: 0;position: absolute;width: 1px;}#sk-container-id-3 div.sk-estimator {font-family: monospace;background-color: #f0f8ff;border: 1px dotted black;border-radius: 0.25em;box-sizing: border-box;margin-bottom: 0.5em;}#sk-container-id-3 div.sk-estimator:hover {background-color: #d4ebff;}#sk-container-id-3 div.sk-parallel-item::after {content: \"\";width: 100%;border-bottom: 1px solid gray;flex-grow: 1;}#sk-container-id-3 div.sk-label:hover label.sk-toggleable__label {background-color: #d4ebff;}#sk-container-id-3 div.sk-serial::before {content: \"\";position: absolute;border-left: 1px solid gray;box-sizing: border-box;top: 0;bottom: 0;left: 50%;z-index: 0;}#sk-container-id-3 div.sk-serial {display: flex;flex-direction: column;align-items: center;background-color: white;padding-right: 0.2em;padding-left: 0.2em;position: relative;}#sk-container-id-3 div.sk-item {position: relative;z-index: 1;}#sk-container-id-3 div.sk-parallel {display: flex;align-items: stretch;justify-content: center;background-color: white;position: relative;}#sk-container-id-3 div.sk-item::before, #sk-container-id-3 div.sk-parallel-item::before {content: \"\";position: absolute;border-left: 1px solid gray;box-sizing: border-box;top: 0;bottom: 0;left: 50%;z-index: -1;}#sk-container-id-3 div.sk-parallel-item {display: flex;flex-direction: column;z-index: 1;position: relative;background-color: white;}#sk-container-id-3 div.sk-parallel-item:first-child::after {align-self: flex-end;width: 50%;}#sk-container-id-3 div.sk-parallel-item:last-child::after {align-self: flex-start;width: 50%;}#sk-container-id-3 div.sk-parallel-item:only-child::after {width: 0;}#sk-container-id-3 div.sk-dashed-wrapped {border: 1px dashed gray;margin: 0 0.4em 0.5em 0.4em;box-sizing: border-box;padding-bottom: 0.4em;background-color: white;}#sk-container-id-3 div.sk-label label {font-family: monospace;font-weight: bold;display: inline-block;line-height: 1.2em;}#sk-container-id-3 div.sk-label-container {text-align: center;}#sk-container-id-3 div.sk-container {/* jupyter's `normalize.less` sets `[hidden] { display: none; }` but bootstrap.min.css set `[hidden] { display: none !important; }` so we also need the `!important` here to be able to override the default hidden behavior on the sphinx rendered scikit-learn.org. See: https://github.com/scikit-learn/scikit-learn/issues/21755 */display: inline-block !important;position: relative;}#sk-container-id-3 div.sk-text-repr-fallback {display: none;}</style><div id=\"sk-container-id-3\" class=\"sk-top-container\"><div class=\"sk-text-repr-fallback\"><pre>LogisticRegression()</pre><b>In a Jupyter environment, please rerun this cell to show the HTML representation or trust the notebook. <br />On GitHub, the HTML representation is unable to render, please try loading this page with nbviewer.org.</b></div><div class=\"sk-container\" hidden><div class=\"sk-item\"><div class=\"sk-estimator sk-toggleable\"><input class=\"sk-toggleable__control sk-hidden--visually\" id=\"sk-estimator-id-3\" type=\"checkbox\" checked><label for=\"sk-estimator-id-3\" class=\"sk-toggleable__label sk-toggleable__label-arrow\">LogisticRegression</label><div class=\"sk-toggleable__content\"><pre>LogisticRegression()</pre></div></div></div></div></div>"
      ],
      "text/plain": [
       "LogisticRegression()"
      ]
     },
     "execution_count": 31,
     "metadata": {},
     "output_type": "execute_result"
    }
   ],
   "source": [
    "# Entrenar el model\n",
    "logisticRegr.fit(x_train_features, y_train_resampled)"
   ]
  },
  {
   "cell_type": "code",
   "execution_count": 32,
   "metadata": {},
   "outputs": [],
   "source": [
    "# Clasificar els frames del test com a saque o no saque\n",
    "y_pred = logisticRegr.predict(x_test_features)"
   ]
  },
  {
   "cell_type": "code",
   "execution_count": 33,
   "metadata": {},
   "outputs": [
    {
     "data": {
      "text/plain": [
       "array([[3374, 4288],\n",
       "       [   6,   15]], dtype=int64)"
      ]
     },
     "execution_count": 33,
     "metadata": {},
     "output_type": "execute_result"
    }
   ],
   "source": [
    "# Confusion matrix\n",
    "metrics.confusion_matrix(y_test, y_pred)"
   ]
  },
  {
   "cell_type": "markdown",
   "metadata": {},
   "source": [
    "#### Fine tuning\n",
    "Per trobar els paràmetres amb els que funciona millor el model fem servir GridSearchCV que el que fa es probarlos tots i retornar els que millor resultats obtenen."
   ]
  },
  {
   "cell_type": "code",
   "execution_count": 34,
   "metadata": {},
   "outputs": [
    {
     "name": "stdout",
     "output_type": "stream",
     "text": [
      "best parameters:  {'C': 10, 'class_weight': None, 'penalty': 'l1', 'solver': 'liblinear', 'tol': 0.001}\n"
     ]
    }
   ],
   "source": [
    "# Paràmetres a provar\n",
    "param_grid = {\n",
    "    'penalty': ['l1', 'l2'],            # Penalty type: L1 or L2 regularization\n",
    "    'C': [0.001, 0.01, 0.1, 1, 10, 100],# Regularization strength\n",
    "    'solver': ['liblinear', 'saga'],    # Solver algorithm - liblinear for small datasets\n",
    "    'class_weight': [None, 'balanced'], # Class weight\n",
    "    'tol': [1e-4, 1e-3, 1e-2],          # Tolerance for stopping criteria\n",
    "}\n",
    "\n",
    "# Crear els models i retornar els paràmetres que funcionen millor\n",
    "logisticRegr = LogisticRegression(max_iter=10000)\n",
    "logisticRegr_cv=GridSearchCV(logisticRegr,param_grid,cv=10,scoring='f1')\n",
    "logisticRegr_cv.fit(x_train_features,y_train_resampled)\n",
    "print(\"best parameters: \",logisticRegr_cv.best_params_)"
   ]
  },
  {
   "cell_type": "code",
   "execution_count": 35,
   "metadata": {},
   "outputs": [],
   "source": [
    "# Clasificar els frames del test com a saque o no saque\n",
    "y_pred = logisticRegr_cv.predict(x_test_features)"
   ]
  },
  {
   "cell_type": "code",
   "execution_count": 36,
   "metadata": {},
   "outputs": [
    {
     "data": {
      "text/plain": [
       "array([[5136, 2526],\n",
       "       [   7,   14]], dtype=int64)"
      ]
     },
     "execution_count": 36,
     "metadata": {},
     "output_type": "execute_result"
    }
   ],
   "source": [
    "# Confusion matrix\n",
    "metrics.confusion_matrix(y_test, y_pred)"
   ]
  },
  {
   "cell_type": "code",
   "execution_count": 37,
   "metadata": {},
   "outputs": [
    {
     "data": {
      "text/plain": [
       "<AxesSubplot: ylabel='Feature'>"
      ]
     },
     "execution_count": 37,
     "metadata": {},
     "output_type": "execute_result"
    },
    {
     "data": {
      "image/png": "[encoded data removed]",
      "text/plain": [
       "<Figure size 1000x600 with 1 Axes>"
      ]
     },
     "metadata": {},
     "output_type": "display_data"
    }
   ],
   "source": [
    "coef = logisticRegr_cv.best_estimator_.coef_[0]\n",
    "\n",
    "feature_importance = pd.DataFrame({'Feature': x_train_features.columns, 'Importance': np.abs(coef)})\n",
    "feature_importance = feature_importance.sort_values('Importance', ascending=True)\n",
    "feature_importance.plot(x='Feature', y='Importance', kind='barh', figsize=(10, 6))"
   ]
  },
  {
   "cell_type": "markdown",
   "metadata": {},
   "source": [
    "### Random Forest"
   ]
  },
  {
   "cell_type": "markdown",
   "metadata": {},
   "source": [
    "#### Valors default"
   ]
  },
  {
   "cell_type": "code",
   "execution_count": 33,
   "metadata": {},
   "outputs": [],
   "source": [
    "# Crear el model\n",
    "rf = RandomForestClassifier()"
   ]
  },
  {
   "cell_type": "code",
   "execution_count": 34,
   "metadata": {},
   "outputs": [
    {
     "data": {
      "text/html": [
       "<style>#sk-container-id-1 {color: black;background-color: white;}#sk-container-id-1 pre{padding: 0;}#sk-container-id-1 div.sk-toggleable {background-color: white;}#sk-container-id-1 label.sk-toggleable__label {cursor: pointer;display: block;width: 100%;margin-bottom: 0;padding: 0.3em;box-sizing: border-box;text-align: center;}#sk-container-id-1 label.sk-toggleable__label-arrow:before {content: \"▸\";float: left;margin-right: 0.25em;color: #696969;}#sk-container-id-1 label.sk-toggleable__label-arrow:hover:before {color: black;}#sk-container-id-1 div.sk-estimator:hover label.sk-toggleable__label-arrow:before {color: black;}#sk-container-id-1 div.sk-toggleable__content {max-height: 0;max-width: 0;overflow: hidden;text-align: left;background-color: #f0f8ff;}#sk-container-id-1 div.sk-toggleable__content pre {margin: 0.2em;color: black;border-radius: 0.25em;background-color: #f0f8ff;}#sk-container-id-1 input.sk-toggleable__control:checked~div.sk-toggleable__content {max-height: 200px;max-width: 100%;overflow: auto;}#sk-container-id-1 input.sk-toggleable__control:checked~label.sk-toggleable__label-arrow:before {content: \"▾\";}#sk-container-id-1 div.sk-estimator input.sk-toggleable__control:checked~label.sk-toggleable__label {background-color: #d4ebff;}#sk-container-id-1 div.sk-label input.sk-toggleable__control:checked~label.sk-toggleable__label {background-color: #d4ebff;}#sk-container-id-1 input.sk-hidden--visually {border: 0;clip: rect(1px 1px 1px 1px);clip: rect(1px, 1px, 1px, 1px);height: 1px;margin: -1px;overflow: hidden;padding: 0;position: absolute;width: 1px;}#sk-container-id-1 div.sk-estimator {font-family: monospace;background-color: #f0f8ff;border: 1px dotted black;border-radius: 0.25em;box-sizing: border-box;margin-bottom: 0.5em;}#sk-container-id-1 div.sk-estimator:hover {background-color: #d4ebff;}#sk-container-id-1 div.sk-parallel-item::after {content: \"\";width: 100%;border-bottom: 1px solid gray;flex-grow: 1;}#sk-container-id-1 div.sk-label:hover label.sk-toggleable__label {background-color: #d4ebff;}#sk-container-id-1 div.sk-serial::before {content: \"\";position: absolute;border-left: 1px solid gray;box-sizing: border-box;top: 0;bottom: 0;left: 50%;z-index: 0;}#sk-container-id-1 div.sk-serial {display: flex;flex-direction: column;align-items: center;background-color: white;padding-right: 0.2em;padding-left: 0.2em;position: relative;}#sk-container-id-1 div.sk-item {position: relative;z-index: 1;}#sk-container-id-1 div.sk-parallel {display: flex;align-items: stretch;justify-content: center;background-color: white;position: relative;}#sk-container-id-1 div.sk-item::before, #sk-container-id-1 div.sk-parallel-item::before {content: \"\";position: absolute;border-left: 1px solid gray;box-sizing: border-box;top: 0;bottom: 0;left: 50%;z-index: -1;}#sk-container-id-1 div.sk-parallel-item {display: flex;flex-direction: column;z-index: 1;position: relative;background-color: white;}#sk-container-id-1 div.sk-parallel-item:first-child::after {align-self: flex-end;width: 50%;}#sk-container-id-1 div.sk-parallel-item:last-child::after {align-self: flex-start;width: 50%;}#sk-container-id-1 div.sk-parallel-item:only-child::after {width: 0;}#sk-container-id-1 div.sk-dashed-wrapped {border: 1px dashed gray;margin: 0 0.4em 0.5em 0.4em;box-sizing: border-box;padding-bottom: 0.4em;background-color: white;}#sk-container-id-1 div.sk-label label {font-family: monospace;font-weight: bold;display: inline-block;line-height: 1.2em;}#sk-container-id-1 div.sk-label-container {text-align: center;}#sk-container-id-1 div.sk-container {/* jupyter's `normalize.less` sets `[hidden] { display: none; }` but bootstrap.min.css set `[hidden] { display: none !important; }` so we also need the `!important` here to be able to override the default hidden behavior on the sphinx rendered scikit-learn.org. See: https://github.com/scikit-learn/scikit-learn/issues/21755 */display: inline-block !important;position: relative;}#sk-container-id-1 div.sk-text-repr-fallback {display: none;}</style><div id=\"sk-container-id-1\" class=\"sk-top-container\"><div class=\"sk-text-repr-fallback\"><pre>RandomForestClassifier()</pre><b>In a Jupyter environment, please rerun this cell to show the HTML representation or trust the notebook. <br />On GitHub, the HTML representation is unable to render, please try loading this page with nbviewer.org.</b></div><div class=\"sk-container\" hidden><div class=\"sk-item\"><div class=\"sk-estimator sk-toggleable\"><input class=\"sk-toggleable__control sk-hidden--visually\" id=\"sk-estimator-id-1\" type=\"checkbox\" checked><label for=\"sk-estimator-id-1\" class=\"sk-toggleable__label sk-toggleable__label-arrow\">RandomForestClassifier</label><div class=\"sk-toggleable__content\"><pre>RandomForestClassifier()</pre></div></div></div></div></div>"
      ],
      "text/plain": [
       "RandomForestClassifier()"
      ]
     },
     "execution_count": 34,
     "metadata": {},
     "output_type": "execute_result"
    }
   ],
   "source": [
    "# Entrenar el model\n",
    "rf.fit(x_train_features, y_train_resampled)"
   ]
  },
  {
   "cell_type": "code",
   "execution_count": 35,
   "metadata": {},
   "outputs": [],
   "source": [
    "# Clasificar els frames del test com a saque o no saque\n",
    "y_pred = rf.predict(x_test_features)"
   ]
  },
  {
   "cell_type": "code",
   "execution_count": 41,
   "metadata": {},
   "outputs": [
    {
     "data": {
      "text/plain": [
       "array([[6058, 1604],\n",
       "       [   7,   14]], dtype=int64)"
      ]
     },
     "execution_count": 41,
     "metadata": {},
     "output_type": "execute_result"
    }
   ],
   "source": [
    "# Confusion matrix\n",
    "metrics.confusion_matrix(y_test, y_pred)"
   ]
  },
  {
   "cell_type": "markdown",
   "metadata": {},
   "source": [
    "#### Fine tuning\n",
    "Per trobar els paràmetres amb els que funciona millor el model fem servir GridSearchCV que el que fa es probarlos tots i retornar els que millor resultats obtenen."
   ]
  },
  {
   "cell_type": "code",
   "execution_count": 36,
   "metadata": {},
   "outputs": [
    {
     "name": "stdout",
     "output_type": "stream",
     "text": [
      "best parameters:  {'criterion': 'entropy', 'max_depth': 3, 'max_features': 'log2', 'n_estimators': 200}\n"
     ]
    }
   ],
   "source": [
    "# Paràmetres a provar\n",
    "param_grid = { \n",
    "    'n_estimators': [50, 100, 200, 400],\n",
    "    'max_features': ['sqrt', 'log2'],\n",
    "    'max_depth' : [3,5,10,20,40],\n",
    "    'criterion' :['gini', 'entropy']\n",
    "}\n",
    "\n",
    "# Crear els models i retornar els paràmetres que funcionen millor\n",
    "rf = RandomForestClassifier()\n",
    "rf_cv = GridSearchCV(rf, param_grid, cv= 10, scoring='f1')\n",
    "rf_cv.fit(x_train_features, y_train_resampled)\n",
    "print(\"best parameters: \", rf_cv.best_params_)\n"
   ]
  },
  {
   "cell_type": "code",
   "execution_count": 37,
   "metadata": {},
   "outputs": [],
   "source": [
    "# Clasificar els frames del test com a saque o no saque\n",
    "y_pred = rf_cv.predict(x_test_features)"
   ]
  },
  {
   "cell_type": "code",
   "execution_count": 38,
   "metadata": {},
   "outputs": [
    {
     "data": {
      "text/plain": [
       "array([[6071, 1590],\n",
       "       [   3,   19]], dtype=int64)"
      ]
     },
     "execution_count": 38,
     "metadata": {},
     "output_type": "execute_result"
    }
   ],
   "source": [
    "# Confusion matrix\n",
    "metrics.confusion_matrix(y_test, y_pred)"
   ]
  },
  {
   "cell_type": "code",
   "execution_count": 21,
   "metadata": {},
   "outputs": [
    {
     "data": {
      "text/plain": [
       "0.025236593059936908"
      ]
     },
     "execution_count": 21,
     "metadata": {},
     "output_type": "execute_result"
    }
   ],
   "source": [
    "metrics.f1_score(y_test, y_pred)"
   ]
  },
  {
   "cell_type": "code",
   "execution_count": 39,
   "metadata": {},
   "outputs": [
    {
     "data": {
      "text/plain": [
       "<AxesSubplot: ylabel='Feature'>"
      ]
     },
     "execution_count": 39,
     "metadata": {},
     "output_type": "execute_result"
    },
    {
     "data": {
      "image/png": "[encoded data removed]",
      "text/plain": [
       "<Figure size 1000x600 with 1 Axes>"
      ]
     },
     "metadata": {},
     "output_type": "display_data"
    }
   ],
   "source": [
    "coef = rf_cv.best_estimator_.feature_importances_\n",
    "feature_importance = pd.DataFrame({'Feature': x_train_features.columns, 'Importance': np.abs(coef)})\n",
    "feature_importance = feature_importance.sort_values('Importance', ascending=True)\n",
    "feature_importance.plot(x='Feature', y='Importance', kind='barh', figsize=(10, 6))"
   ]
  },
  {
   "cell_type": "markdown",
   "metadata": {},
   "source": [
    "### SVM"
   ]
  },
  {
   "cell_type": "markdown",
   "metadata": {},
   "source": [
    "#### Valors default"
   ]
  },
  {
   "cell_type": "code",
   "execution_count": 46,
   "metadata": {},
   "outputs": [],
   "source": [
    "# Crear model\n",
    "svmm = svm.SVC() # Linear Kernel"
   ]
  },
  {
   "cell_type": "code",
   "execution_count": 47,
   "metadata": {},
   "outputs": [
    {
     "data": {
      "text/html": [
       "<style>#sk-container-id-5 {color: black;background-color: white;}#sk-container-id-5 pre{padding: 0;}#sk-container-id-5 div.sk-toggleable {background-color: white;}#sk-container-id-5 label.sk-toggleable__label {cursor: pointer;display: block;width: 100%;margin-bottom: 0;padding: 0.3em;box-sizing: border-box;text-align: center;}#sk-container-id-5 label.sk-toggleable__label-arrow:before {content: \"▸\";float: left;margin-right: 0.25em;color: #696969;}#sk-container-id-5 label.sk-toggleable__label-arrow:hover:before {color: black;}#sk-container-id-5 div.sk-estimator:hover label.sk-toggleable__label-arrow:before {color: black;}#sk-container-id-5 div.sk-toggleable__content {max-height: 0;max-width: 0;overflow: hidden;text-align: left;background-color: #f0f8ff;}#sk-container-id-5 div.sk-toggleable__content pre {margin: 0.2em;color: black;border-radius: 0.25em;background-color: #f0f8ff;}#sk-container-id-5 input.sk-toggleable__control:checked~div.sk-toggleable__content {max-height: 200px;max-width: 100%;overflow: auto;}#sk-container-id-5 input.sk-toggleable__control:checked~label.sk-toggleable__label-arrow:before {content: \"▾\";}#sk-container-id-5 div.sk-estimator input.sk-toggleable__control:checked~label.sk-toggleable__label {background-color: #d4ebff;}#sk-container-id-5 div.sk-label input.sk-toggleable__control:checked~label.sk-toggleable__label {background-color: #d4ebff;}#sk-container-id-5 input.sk-hidden--visually {border: 0;clip: rect(1px 1px 1px 1px);clip: rect(1px, 1px, 1px, 1px);height: 1px;margin: -1px;overflow: hidden;padding: 0;position: absolute;width: 1px;}#sk-container-id-5 div.sk-estimator {font-family: monospace;background-color: #f0f8ff;border: 1px dotted black;border-radius: 0.25em;box-sizing: border-box;margin-bottom: 0.5em;}#sk-container-id-5 div.sk-estimator:hover {background-color: #d4ebff;}#sk-container-id-5 div.sk-parallel-item::after {content: \"\";width: 100%;border-bottom: 1px solid gray;flex-grow: 1;}#sk-container-id-5 div.sk-label:hover label.sk-toggleable__label {background-color: #d4ebff;}#sk-container-id-5 div.sk-serial::before {content: \"\";position: absolute;border-left: 1px solid gray;box-sizing: border-box;top: 0;bottom: 0;left: 50%;z-index: 0;}#sk-container-id-5 div.sk-serial {display: flex;flex-direction: column;align-items: center;background-color: white;padding-right: 0.2em;padding-left: 0.2em;position: relative;}#sk-container-id-5 div.sk-item {position: relative;z-index: 1;}#sk-container-id-5 div.sk-parallel {display: flex;align-items: stretch;justify-content: center;background-color: white;position: relative;}#sk-container-id-5 div.sk-item::before, #sk-container-id-5 div.sk-parallel-item::before {content: \"\";position: absolute;border-left: 1px solid gray;box-sizing: border-box;top: 0;bottom: 0;left: 50%;z-index: -1;}#sk-container-id-5 div.sk-parallel-item {display: flex;flex-direction: column;z-index: 1;position: relative;background-color: white;}#sk-container-id-5 div.sk-parallel-item:first-child::after {align-self: flex-end;width: 50%;}#sk-container-id-5 div.sk-parallel-item:last-child::after {align-self: flex-start;width: 50%;}#sk-container-id-5 div.sk-parallel-item:only-child::after {width: 0;}#sk-container-id-5 div.sk-dashed-wrapped {border: 1px dashed gray;margin: 0 0.4em 0.5em 0.4em;box-sizing: border-box;padding-bottom: 0.4em;background-color: white;}#sk-container-id-5 div.sk-label label {font-family: monospace;font-weight: bold;display: inline-block;line-height: 1.2em;}#sk-container-id-5 div.sk-label-container {text-align: center;}#sk-container-id-5 div.sk-container {/* jupyter's `normalize.less` sets `[hidden] { display: none; }` but bootstrap.min.css set `[hidden] { display: none !important; }` so we also need the `!important` here to be able to override the default hidden behavior on the sphinx rendered scikit-learn.org. See: https://github.com/scikit-learn/scikit-learn/issues/21755 */display: inline-block !important;position: relative;}#sk-container-id-5 div.sk-text-repr-fallback {display: none;}</style><div id=\"sk-container-id-5\" class=\"sk-top-container\"><div class=\"sk-text-repr-fallback\"><pre>SVC()</pre><b>In a Jupyter environment, please rerun this cell to show the HTML representation or trust the notebook. <br />On GitHub, the HTML representation is unable to render, please try loading this page with nbviewer.org.</b></div><div class=\"sk-container\" hidden><div class=\"sk-item\"><div class=\"sk-estimator sk-toggleable\"><input class=\"sk-toggleable__control sk-hidden--visually\" id=\"sk-estimator-id-5\" type=\"checkbox\" checked><label for=\"sk-estimator-id-5\" class=\"sk-toggleable__label sk-toggleable__label-arrow\">SVC</label><div class=\"sk-toggleable__content\"><pre>SVC()</pre></div></div></div></div></div>"
      ],
      "text/plain": [
       "SVC()"
      ]
     },
     "execution_count": 47,
     "metadata": {},
     "output_type": "execute_result"
    }
   ],
   "source": [
    "# Entrenar model\n",
    "svmm.fit(x_train_features, y_train_resampled)\n"
   ]
  },
  {
   "cell_type": "code",
   "execution_count": 48,
   "metadata": {},
   "outputs": [],
   "source": [
    "# Clasificar els frames del test com a saque o no saque\n",
    "y_pred = svmm.predict(x_test_features)"
   ]
  },
  {
   "cell_type": "code",
   "execution_count": 49,
   "metadata": {},
   "outputs": [
    {
     "data": {
      "text/plain": [
       "array([[2812, 4850],\n",
       "       [   6,   15]], dtype=int64)"
      ]
     },
     "execution_count": 49,
     "metadata": {},
     "output_type": "execute_result"
    }
   ],
   "source": [
    "# Confusion matrix\n",
    "metrics.confusion_matrix(y_test, y_pred)"
   ]
  },
  {
   "cell_type": "markdown",
   "metadata": {},
   "source": [
    "#### Fine tunnig\n",
    "Per trobar els paràmetres amb els que funciona millor el model fem servir GridSearchCV que el que fa es probarlos tots i retornar els que millor resultats obtenen."
   ]
  },
  {
   "cell_type": "code",
   "execution_count": 50,
   "metadata": {},
   "outputs": [],
   "source": [
    "# Paràmetres a provar\n",
    "param_grid = {\n",
    "    'C': [0.1, 1, 10, 100, 1000],  \n",
    "    'gamma': [1, 0.1, 0.01, 0.001, 0.0001], \n",
    "    'kernel': ['linear', 'poly', 'rbf']\n",
    "}\n",
    "\n",
    "# Crear els models i retornar els paràmetres que funcionen millor\n",
    "svmm = svm.SVC() # Linear Kernel\n",
    "svm_cv = GridSearchCV(svmm, param_grid, cv= 10, scoring='f1')\n",
    "svm_cv.fit(x_train_features, y_train_resampled)\n",
    "print(\"best parameters: \",svm_cv.best_params_)"
   ]
  },
  {
   "cell_type": "code",
   "execution_count": null,
   "metadata": {},
   "outputs": [],
   "source": [
    "# Clasificar els frames del test com a saque o no saque\n",
    "y_pred = svm_cv.predict(x_test_features)"
   ]
  },
  {
   "cell_type": "code",
   "execution_count": null,
   "metadata": {},
   "outputs": [
    {
     "data": {
      "text/plain": [
       "array([[6452, 1299],\n",
       "       [   5,   10]], dtype=int64)"
      ]
     },
     "execution_count": 166,
     "metadata": {},
     "output_type": "execute_result"
    }
   ],
   "source": [
    "# Confusion matrix\n",
    "metrics.confusion_matrix(y_test, y_pred)"
   ]
  },
  {
   "cell_type": "code",
   "execution_count": null,
   "metadata": {},
   "outputs": [],
   "source": [
    "coef = svm_cv.best_estimator_.feature_importances_\n",
    "feature_importance = pd.DataFrame({'Feature': x_train_features.columns, 'Importance': np.abs(coef)})\n",
    "feature_importance = feature_importance.sort_values('Importance', ascending=True)\n",
    "feature_importance.plot(x='Feature', y='Importance', kind='barh', figsize=(10, 6))"
   ]
  },
  {
   "cell_type": "markdown",
   "metadata": {},
   "source": [
    "### Bidirectional RNN\n",
    "Recurrent Neural Networs són models que es fan servir per classificar dades sequencials com són els frames d'un video. Implementem bidireccional perquè fa servir frames passats com futurs, i això ens interssa perque pot seterminar com els jugadors i pilota es mouen abans i després del saque."
   ]
  },
  {
   "cell_type": "code",
   "execution_count": 57,
   "metadata": {},
   "outputs": [
    {
     "name": "stderr",
     "output_type": "stream",
     "text": [
      "c:\\Users\\User\\AppData\\Local\\Programs\\Python\\Python310\\lib\\site-packages\\keras\\src\\layers\\core\\wrapper.py:27: UserWarning: Do not pass an `input_shape`/`input_dim` argument to a layer. When using Sequential models, prefer using an `Input(shape)` object as the first layer in the model instead.\n",
      "  super().__init__(**kwargs)\n"
     ]
    }
   ],
   "source": [
    "# Crear el model\n",
    "brnn = Sequential()\n",
    "num_neurons = 64\n",
    "num_features = len(feature_names)\n",
    "# brnn.add(Bidirectional(LSTM(num_neurons, return_sequences=False), input_shape=(None, num_features)))\n",
    "brnn.add(Bidirectional(GRU(num_neurons, return_sequences=False), input_shape=(None, num_features)))\n",
    "brnn.add(Dense(1, activation='sigmoid'))"
   ]
  },
  {
   "cell_type": "code",
   "execution_count": 58,
   "metadata": {},
   "outputs": [],
   "source": [
    "# Compile the model\n",
    "brnn.compile(optimizer='adam', loss='binary_crossentropy', metrics=['accuracy'])"
   ]
  },
  {
   "cell_type": "code",
   "execution_count": null,
   "metadata": {},
   "outputs": [],
   "source": [
    "# Train the model\n",
    "brnn.fit(x_train_features, y_train_resampled, epochs=10, batch_size=32, validation_split=0.2)\n",
    "\n",
    "# Error"
   ]
  },
  {
   "cell_type": "markdown",
   "metadata": {},
   "source": [
    "Sembla que aquest tipus de model només funciona amb sequencies de frames i cada una com a un sol Saque/No saque. Jo estava intentant que funciones per categorizar frame per frame."
   ]
  },
  {
   "cell_type": "markdown",
   "metadata": {},
   "source": [
    "Ara provo fer-ho amb un RNN més simple però que no te en compte la informació temporal entre els frames. Per tant crec que no guanyem res."
   ]
  },
  {
   "cell_type": "code",
   "execution_count": 45,
   "metadata": {},
   "outputs": [
    {
     "name": "stdout",
     "output_type": "stream",
     "text": [
      "Epoch 1/10\n"
     ]
    },
    {
     "name": "stderr",
     "output_type": "stream",
     "text": [
      "c:\\Users\\User\\AppData\\Local\\Programs\\Python\\Python310\\lib\\site-packages\\keras\\src\\layers\\core\\dense.py:85: UserWarning: Do not pass an `input_shape`/`input_dim` argument to a layer. When using Sequential models, prefer using an `Input(shape)` object as the first layer in the model instead.\n",
      "  super().__init__(activity_regularizer=activity_regularizer, **kwargs)\n"
     ]
    },
    {
     "name": "stdout",
     "output_type": "stream",
     "text": [
      "\u001b[1m3/3\u001b[0m \u001b[32m━━━━━━━━━━━━━━━━━━━━\u001b[0m\u001b[37m\u001b[0m \u001b[1m1s\u001b[0m 111ms/step - accuracy: 0.5830 - loss: 36.5136 - val_accuracy: 0.0000e+00 - val_loss: 33.2254\n",
      "Epoch 2/10\n",
      "\u001b[1m3/3\u001b[0m \u001b[32m━━━━━━━━━━━━━━━━━━━━\u001b[0m\u001b[37m\u001b[0m \u001b[1m0s\u001b[0m 21ms/step - accuracy: 0.6337 - loss: 26.4856 - val_accuracy: 0.0000e+00 - val_loss: 29.0523\n",
      "Epoch 3/10\n",
      "\u001b[1m3/3\u001b[0m \u001b[32m━━━━━━━━━━━━━━━━━━━━\u001b[0m\u001b[37m\u001b[0m \u001b[1m0s\u001b[0m 17ms/step - accuracy: 0.6280 - loss: 24.2924 - val_accuracy: 0.0000e+00 - val_loss: 24.7764\n",
      "Epoch 4/10\n",
      "\u001b[1m3/3\u001b[0m \u001b[32m━━━━━━━━━━━━━━━━━━━━\u001b[0m\u001b[37m\u001b[0m \u001b[1m0s\u001b[0m 25ms/step - accuracy: 0.6866 - loss: 20.9068 - val_accuracy: 0.0455 - val_loss: 20.5154\n",
      "Epoch 5/10\n",
      "\u001b[1m3/3\u001b[0m \u001b[32m━━━━━━━━━━━━━━━━━━━━\u001b[0m\u001b[37m\u001b[0m \u001b[1m0s\u001b[0m 31ms/step - accuracy: 0.5908 - loss: 19.8124 - val_accuracy: 0.0909 - val_loss: 16.2108\n",
      "Epoch 6/10\n",
      "\u001b[1m3/3\u001b[0m \u001b[32m━━━━━━━━━━━━━━━━━━━━\u001b[0m\u001b[37m\u001b[0m \u001b[1m0s\u001b[0m 26ms/step - accuracy: 0.5653 - loss: 16.8609 - val_accuracy: 0.1364 - val_loss: 12.0284\n",
      "Epoch 7/10\n",
      "\u001b[1m3/3\u001b[0m \u001b[32m━━━━━━━━━━━━━━━━━━━━\u001b[0m\u001b[37m\u001b[0m \u001b[1m0s\u001b[0m 27ms/step - accuracy: 0.5965 - loss: 11.1730 - val_accuracy: 0.1818 - val_loss: 8.0049\n",
      "Epoch 8/10\n",
      "\u001b[1m3/3\u001b[0m \u001b[32m━━━━━━━━━━━━━━━━━━━━\u001b[0m\u001b[37m\u001b[0m \u001b[1m0s\u001b[0m 33ms/step - accuracy: 0.5201 - loss: 8.5711 - val_accuracy: 0.3636 - val_loss: 4.1951\n",
      "Epoch 9/10\n",
      "\u001b[1m3/3\u001b[0m \u001b[32m━━━━━━━━━━━━━━━━━━━━\u001b[0m\u001b[37m\u001b[0m \u001b[1m0s\u001b[0m 23ms/step - accuracy: 0.5158 - loss: 4.6273 - val_accuracy: 0.6818 - val_loss: 1.0479\n",
      "Epoch 10/10\n",
      "\u001b[1m3/3\u001b[0m \u001b[32m━━━━━━━━━━━━━━━━━━━━\u001b[0m\u001b[37m\u001b[0m \u001b[1m0s\u001b[0m 28ms/step - accuracy: 0.4466 - loss: 1.7643 - val_accuracy: 1.0000 - val_loss: 0.0144\n"
     ]
    },
    {
     "data": {
      "text/plain": [
       "<keras.src.callbacks.history.History at 0x29a0db0ded0>"
      ]
     },
     "execution_count": 45,
     "metadata": {},
     "output_type": "execute_result"
    }
   ],
   "source": [
    "# Define the model\n",
    "model = Sequential()\n",
    "model.add(Dense(64, activation='relu', input_shape=(num_features,)))\n",
    "model.add(Dense(1, activation='sigmoid'))\n",
    "\n",
    "# Compile the model\n",
    "model.compile(optimizer='adam', loss='binary_crossentropy', metrics=['accuracy'])\n",
    "\n",
    "# Train the model\n",
    "model.fit(x_train_features, y_train_resampled, epochs=10, batch_size=32, validation_split=0.2)"
   ]
  },
  {
   "cell_type": "code",
   "execution_count": 53,
   "metadata": {},
   "outputs": [
    {
     "name": "stdout",
     "output_type": "stream",
     "text": [
      "\u001b[1m  1/241\u001b[0m \u001b[37m━━━━━━━━━━━━━━━━━━━━\u001b[0m \u001b[1m5s\u001b[0m 25ms/step"
     ]
    },
    {
     "name": "stdout",
     "output_type": "stream",
     "text": [
      "\u001b[1m241/241\u001b[0m \u001b[32m━━━━━━━━━━━━━━━━━━━━\u001b[0m\u001b[37m\u001b[0m \u001b[1m0s\u001b[0m 1ms/step\n"
     ]
    }
   ],
   "source": [
    "y_pred = model.predict(x_test_features)"
   ]
  },
  {
   "cell_type": "code",
   "execution_count": 54,
   "metadata": {},
   "outputs": [],
   "source": [
    "y_pred = y_pred>0.994107 # Filtre fet a ull per triar els millor 23 (test)\n",
    "y_pred = y_pred*1 # passem de True/False a 1/0"
   ]
  },
  {
   "cell_type": "code",
   "execution_count": 55,
   "metadata": {},
   "outputs": [
    {
     "data": {
      "text/plain": [
       "array([[7638,   23],\n",
       "       [  22,    0]], dtype=int64)"
      ]
     },
     "execution_count": 55,
     "metadata": {},
     "output_type": "execute_result"
    }
   ],
   "source": [
    "metrics.confusion_matrix(y_test, y_pred)"
   ]
  },
  {
   "cell_type": "markdown",
   "metadata": {},
   "source": [
    "El model amb RNN no ha funcionat, crec que el millor és seguir amb els models anterior encara que tampoc haguem conseguit incloure variables que continguin informació temporal que facin millorar la bondat de l'algortime."
   ]
  },
  {
   "cell_type": "markdown",
   "metadata": {},
   "source": [
    "## Model final"
   ]
  },
  {
   "cell_type": "markdown",
   "metadata": {},
   "source": [
    "Dels 3 models provats, el que funciona millor amb aquest dataset és Random Forest. Detecta correctament els mateix número de frames de saque que Logistic Regression però amb un número de falsos positius menor. Per altra banda, retorna més falsos positius que SVM però no deixa escapar tants frames de saque com ho fa aquest segon model. He decidit que en aquest cas interesava augmentar el número de frames de saque detectats correctament encara que això també faci augmentar els falsos positius. Això suposo que depén de l'aplicació d'aquests frames detectats, però he pensat que era bó detectar tant com possibles per si després es pugués pasar per algún altre tipus de filtre que pugui eliminar més clarament els falsos positius i conseguir tenir gairebé tots els saques que s'han produït durant tot el video. "
   ]
  },
  {
   "cell_type": "code",
   "execution_count": 22,
   "metadata": {},
   "outputs": [],
   "source": [
    "# Guardem el model per poder-lo fer servir més endavamt en altres documents.\n",
    "model = rf_cv\n",
    "# model = pickle.load(open(\"model_saques.sav\", 'rb'))\n",
    "# pickle.dump(model, open(\"model_saques_v2.sav\", 'wb'))"
   ]
  },
  {
   "cell_type": "markdown",
   "metadata": {},
   "source": [
    "### Filtres lògics previs"
   ]
  },
  {
   "cell_type": "markdown",
   "metadata": {},
   "source": [
    "Ordenem per index per poder després recuperar l'ordre inicial"
   ]
  },
  {
   "cell_type": "code",
   "execution_count": 25,
   "metadata": {},
   "outputs": [],
   "source": [
    "x_test_nw_index = x_test.reset_index(drop=True)"
   ]
  },
  {
   "cell_type": "markdown",
   "metadata": {},
   "source": [
    "#### Posició Pilota"
   ]
  },
  {
   "cell_type": "markdown",
   "metadata": {},
   "source": [
    "Si la pilota no està per darrere la línea de saque, no pot ser un frame de saque. La línea de saque està a 3 metres del vidres (x==3 i x==17), deixem 15 centimetres de marge.\\\n",
    "Si la pilota no està a l'alçada de la cadera, no pot ser un frame de saque.\n",
    "\n",
    "He decidit no aplicar aquest filtre perquè mirant els frames que s'han etiquetat com a saque, aquest filtre no té sentit. Hi ha molts frames etiquetats com a saque que no passarien el filtre: la pilota darrere la línea (component X) i/o no està a l'alçada de saque (component Z)."
   ]
  },
  {
   "cell_type": "code",
   "execution_count": null,
   "metadata": {},
   "outputs": [],
   "source": [
    "x_pil_saq = x_test_nw_index[\n",
    "    ((x_test_nw_index['Xpilota']<3.15) | (x_test_nw_index['Xpilota']>16.85)) & # pilota darrere linea de saque\n",
    "    ((x_test_nw_index['Zpilota']>0.50) | (x_test_nw_index['Zpilota']<1.10)) # pilota alçada cadera\n",
    "    ]\n"
   ]
  },
  {
   "cell_type": "markdown",
   "metadata": {},
   "source": [
    "#### Posició jugadors"
   ]
  },
  {
   "cell_type": "markdown",
   "metadata": {},
   "source": [
    "Si no hi ha un jugador de cada equip com a mínim darrere la línea de saque, no pot ser un frame de saque."
   ]
  },
  {
   "cell_type": "code",
   "execution_count": 26,
   "metadata": {},
   "outputs": [],
   "source": [
    "def one_player_team_line(row):\n",
    "    # Funció que retorna True si hi ha un jugador per equip mínim darrere la línea de saque i False si no n'hi ha\n",
    "    tb = tnb = False \n",
    "    for i in range(1,5):\n",
    "        # iterem pels jugadors\n",
    "        if row[f'X{i}']<3.15 or row[f'X{i}']>16.85:\n",
    "            # Si el jugador està darrere la linea de sques\n",
    "            if (row[f'X{i}']>10 and row['Xpilota']>10) or (row[f'X{i}']<10 and row['Xpilota']<10):\n",
    "                # si la pilota està al mateix camp que el jugador\n",
    "                tb = True\n",
    "            else:\n",
    "                # si la pilota està al camp contrari\n",
    "                tnb = True\n",
    "    return tb and tnb \n",
    "\n",
    "x_jug_saq = x_test_nw_index[x_test_nw_index.apply(one_player_team_line, axis=1)]"
   ]
  },
  {
   "cell_type": "markdown",
   "metadata": {},
   "source": [
    "#### Tots a la pista\n",
    "Si algún jugador o la pilota no es troba a càmera, assumirem que el joc està parat i, per tant, no pot ser un frame de saque"
   ]
  },
  {
   "cell_type": "code",
   "execution_count": 27,
   "metadata": {},
   "outputs": [],
   "source": [
    "x_tots = x_jug_saq.dropna()"
   ]
  },
  {
   "cell_type": "markdown",
   "metadata": {},
   "source": [
    "### Apliquem el model"
   ]
  },
  {
   "cell_type": "code",
   "execution_count": 28,
   "metadata": {},
   "outputs": [],
   "source": [
    "x_model = x_tots.loc[:, feature_names] # seleccionem els features amb els que s'ha entrenat el model\n",
    "y_pred_jug_saq = model.predict(x_model)"
   ]
  },
  {
   "cell_type": "code",
   "execution_count": 29,
   "metadata": {},
   "outputs": [],
   "source": [
    "y_pred = np.zeros(len(x_test_features), dtype=int) # Creem array de zeros (zero vol dir No saque)\n",
    "y_pred[x_jug_saq.index] = y_pred_jug_saq # Introduïm a l'array els output del model només als index que han passat pel model, els altres ja s'han filtrat com a que són No saque"
   ]
  },
  {
   "cell_type": "code",
   "execution_count": 30,
   "metadata": {},
   "outputs": [
    {
     "data": {
      "text/plain": [
       "array([[6440, 1221],\n",
       "       [   2,   20]], dtype=int64)"
      ]
     },
     "execution_count": 30,
     "metadata": {},
     "output_type": "execute_result"
    }
   ],
   "source": [
    "metrics.confusion_matrix(y_test, y_pred)"
   ]
  },
  {
   "cell_type": "markdown",
   "metadata": {},
   "source": [
    "Els filtres no milloren gaire la bondat del model, encara hi ha masses falsos positius."
   ]
  }
 ],
 "metadata": {
  "kernelspec": {
   "display_name": "Python 3",
   "language": "python",
   "name": "python3"
  },
  "language_info": {
   "codemirror_mode": {
    "name": "ipython",
    "version": 3
   },
   "file_extension": ".py",
   "mimetype": "text/x-python",
   "name": "python",
   "nbconvert_exporter": "python",
   "pygments_lexer": "ipython3",
   "version": "3.10.7"
  }
 },
 "nbformat": 4,
 "nbformat_minor": 2
}
